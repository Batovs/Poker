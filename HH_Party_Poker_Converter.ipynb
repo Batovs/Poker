{
  "nbformat": 4,
  "nbformat_minor": 0,
  "metadata": {
    "colab": {
      "provenance": [],
      "authorship_tag": "ABX9TyPTjrTu/N18e0wI7ogfu1Nq",
      "include_colab_link": true
    },
    "kernelspec": {
      "name": "python3",
      "display_name": "Python 3"
    },
    "language_info": {
      "name": "python"
    }
  },
  "cells": [
    {
      "cell_type": "markdown",
      "metadata": {
        "id": "view-in-github",
        "colab_type": "text"
      },
      "source": [
        "<a href=\"https://colab.research.google.com/github/Batovs/Poker/blob/main/HH_Party_Poker_Converter.ipynb\" target=\"_parent\"><img src=\"https://colab.research.google.com/assets/colab-badge.svg\" alt=\"Open In Colab\"/></a>"
      ]
    },
    {
      "cell_type": "code",
      "source": [
        "# Example usage:\n",
        "pasta_entrada = \"/content/hands\"\n",
        "pasta_saida = \"/content/convertidas\"\n",
        "convert_hand_history_multiple(pasta_entrada, pasta_saida)\n",
        "\n",
        "\n",
        "\n",
        "def convert_hand_history_multiple(pasta_entrada, pasta_saida):\n",
        "  import os\n",
        "\n",
        "  for filename in os.listdir(pasta_entrada):\n",
        "    if filename.endswith(\".txt\"):\n",
        "      arq_entrada = os.path.join(pasta_entrada, filename)\n",
        "      arq_saida = os.path.join(pasta_saida, filename)\n",
        "      convert_hand_history(arq_entrada, arq_saida)"
      ],
      "metadata": {
        "id": "JeEA_nM2gUXf"
      },
      "execution_count": null,
      "outputs": []
    },
    {
      "cell_type": "code",
      "source": [
        "def convert_hand_history(arq_entrada, arq_saida):\n",
        "  import re\n",
        "\n",
        "  with open(arq_entrada, 'r') as file:\n",
        "          hand_history = file.read()\n",
        "\n",
        "  # prompt: get the name after Seat on the first 6 lines in hand_history\n",
        "  names = re.findall(r'Seat (\\d+): (.*) \\(\\$\\d+\\.?\\d+\\)', hand_history, flags=re.MULTILINE)[:6]\n",
        "  for i in range(len(names)):\n",
        "    if names[i][1].startswith('Player'):\n",
        "      names[i] = (names[i][0],' ')\n",
        "  names_dict = dict(names)\n",
        "\n",
        "  # Split the hand history into hands\n",
        "  hands = re.split(r'\\n\\n', hand_history)[1:-1]\n",
        "\n",
        "  # Get seat and player nickname\n",
        "  def get_seat_player(hand_history):\n",
        "    regex = r'Seat (\\d+): (.*) \\(\\$\\d+\\.?\\d+\\)'\n",
        "    seat_player = re.findall(regex, hand_history)\n",
        "    seat_player = dict(seat_player)\n",
        "    return seat_player\n",
        "\n",
        "  def replace_names(hand_history, dict_names, dict_players):\n",
        "    for i in dict_players.keys():\n",
        "      if dict_names[i] != ' ':\n",
        "        hand_history = hand_history.replace(dict_players[i], dict_names[i])\n",
        "    return hand_history\n",
        "\n",
        "  for i in range(len(hands)):\n",
        "    players_dict = get_seat_player(hands[i])\n",
        "    hands[i] = replace_names(hands[i], names_dict, players_dict)\n",
        "\n",
        "  with open(arq_saida, 'w') as f:\n",
        "    for hand in hands:\n",
        "      f.write(hand + '\\n\\n')"
      ],
      "metadata": {
        "id": "m8WzRNfzQuY7"
      },
      "execution_count": null,
      "outputs": []
    }
  ]
}