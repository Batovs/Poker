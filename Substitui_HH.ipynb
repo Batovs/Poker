{
  "nbformat": 4,
  "nbformat_minor": 0,
  "metadata": {
    "colab": {
      "provenance": [],
      "authorship_tag": "ABX9TyPIw+6lb44OOQZmL8AA37a8",
      "include_colab_link": true
    },
    "kernelspec": {
      "name": "python3",
      "display_name": "Python 3"
    },
    "language_info": {
      "name": "python"
    }
  },
  "cells": [
    {
      "cell_type": "markdown",
      "metadata": {
        "id": "view-in-github",
        "colab_type": "text"
      },
      "source": [
        "<a href=\"https://colab.research.google.com/github/Batovs/Poker/blob/main/Substitui_HH.ipynb\" target=\"_parent\"><img src=\"https://colab.research.google.com/assets/colab-badge.svg\" alt=\"Open In Colab\"/></a>"
      ]
    },
    {
      "cell_type": "code",
      "source": [
        "# prompt: colocar os .txt de content para source_txt_files\n",
        "\n",
        "import os\n",
        "import zipfile\n",
        "import re\n",
        "\n",
        "\n",
        "def process_and_zip_txt_files(source_dir, destination_dir, zip_filename):\n",
        "    \"\"\"\n",
        "    Processes .txt files in a source directory, replacing player names,\n",
        "    saving the modified files to a destination directory, and creating a zip archive.\n",
        "    \"\"\"\n",
        "\n",
        "    if not os.path.exists(destination_dir):\n",
        "        os.makedirs(destination_dir)\n",
        "\n",
        "    for filename in os.listdir(source_dir):\n",
        "        if filename.endswith(\".txt\"):\n",
        "            filepath = os.path.join(source_dir, filename)\n",
        "            with open(filepath, 'r') as f:\n",
        "                file_content = f.read()\n",
        "\n",
        "            for i in range(1, 7):\n",
        "                file_content = re.sub(rf\"Player{i}\", f\"joaozinho {i}\", file_content)\n",
        "\n",
        "            new_filepath = os.path.join(destination_dir, filename)\n",
        "            with open(new_filepath, 'w') as f:\n",
        "                f.write(file_content)\n",
        "\n",
        "    # Create a zip archive\n",
        "    with zipfile.ZipFile(zip_filename, 'w') as zipf:\n",
        "        for root, _, files in os.walk(destination_dir):\n",
        "            for file in files:\n",
        "                zipf.write(os.path.join(root, file),\n",
        "                           os.path.relpath(os.path.join(root, file),\n",
        "                                           os.path.join(destination_dir, '..')))\n",
        "\n",
        "# Example usage:\n",
        "source_directory = \"/content/source_txt_files\"  # Replace with the actual source directory\n",
        "destination_directory = \"/content/processed_txt_files\" # Replace with desired destination\n",
        "zip_file_name = \"/content/processed_files.zip\" # Replace with desired zip file name\n",
        "\n",
        "# Create the source directory if it doesn't exist\n",
        "if not os.path.exists(source_directory):\n",
        "    os.makedirs(source_directory)\n",
        "\n",
        "process_and_zip_txt_files(source_directory, destination_directory, zip_file_name)"
      ],
      "metadata": {
        "id": "h-qfwYvuAyKs"
      },
      "execution_count": 2,
      "outputs": []
    }
  ]
}